{
 "cells": [
  {
   "cell_type": "markdown",
   "metadata": {},
   "source": [
    "# Regression-3: model performance"
   ]
  },
  {
   "cell_type": "markdown",
   "metadata": {},
   "source": [
    "OLS、リッジ回帰、ランダムフォレスト、勾配ブースティングのアルゴリズム性能を比較してみましょう。<br>データはボストン・ハウジングデータを使いましょう。"
   ]
  },
  {
   "cell_type": "markdown",
   "metadata": {},
   "source": [
    "## トレーニングデータ読み込み"
   ]
  },
  {
   "cell_type": "code",
   "execution_count": 13,
   "metadata": {
    "collapsed": false,
    "scrolled": true
   },
   "outputs": [
    {
     "data": {
      "text/html": [
       "<div>\n",
       "<table border=\"1\" class=\"dataframe\">\n",
       "  <thead>\n",
       "    <tr style=\"text-align: right;\">\n",
       "      <th></th>\n",
       "      <th>ID</th>\n",
       "      <th>Score</th>\n",
       "      <th>col1</th>\n",
       "      <th>col2</th>\n",
       "      <th>col3</th>\n",
       "      <th>col4</th>\n",
       "      <th>col5</th>\n",
       "      <th>col6</th>\n",
       "      <th>col7</th>\n",
       "      <th>col8</th>\n",
       "      <th>...</th>\n",
       "      <th>col3796</th>\n",
       "      <th>col3797</th>\n",
       "      <th>col3798</th>\n",
       "      <th>col3799</th>\n",
       "      <th>col3800</th>\n",
       "      <th>col3801</th>\n",
       "      <th>col3802</th>\n",
       "      <th>col3803</th>\n",
       "      <th>col3804</th>\n",
       "      <th>col3805</th>\n",
       "    </tr>\n",
       "  </thead>\n",
       "  <tbody>\n",
       "    <tr>\n",
       "      <th>0</th>\n",
       "      <td>5</td>\n",
       "      <td>3.475628</td>\n",
       "      <td>0</td>\n",
       "      <td>4.058</td>\n",
       "      <td>0.824</td>\n",
       "      <td>0</td>\n",
       "      <td>10.267</td>\n",
       "      <td>0.728</td>\n",
       "      <td>4.403</td>\n",
       "      <td>0.050</td>\n",
       "      <td>...</td>\n",
       "      <td>1.067</td>\n",
       "      <td>0</td>\n",
       "      <td>0.0</td>\n",
       "      <td>0.115</td>\n",
       "      <td>30.395</td>\n",
       "      <td>24.541</td>\n",
       "      <td>0</td>\n",
       "      <td>0.415</td>\n",
       "      <td>0.997</td>\n",
       "      <td>0</td>\n",
       "    </tr>\n",
       "    <tr>\n",
       "      <th>1</th>\n",
       "      <td>8</td>\n",
       "      <td>3.601332</td>\n",
       "      <td>0</td>\n",
       "      <td>4.111</td>\n",
       "      <td>0.929</td>\n",
       "      <td>0</td>\n",
       "      <td>8.352</td>\n",
       "      <td>0.907</td>\n",
       "      <td>4.216</td>\n",
       "      <td>0.034</td>\n",
       "      <td>...</td>\n",
       "      <td>0.934</td>\n",
       "      <td>0</td>\n",
       "      <td>0.0</td>\n",
       "      <td>0.227</td>\n",
       "      <td>38.508</td>\n",
       "      <td>35.038</td>\n",
       "      <td>0</td>\n",
       "      <td>3.979</td>\n",
       "      <td>0.997</td>\n",
       "      <td>3</td>\n",
       "    </tr>\n",
       "    <tr>\n",
       "      <th>2</th>\n",
       "      <td>9</td>\n",
       "      <td>1.935003</td>\n",
       "      <td>0</td>\n",
       "      <td>4.139</td>\n",
       "      <td>0.833</td>\n",
       "      <td>66</td>\n",
       "      <td>9.494</td>\n",
       "      <td>0.733</td>\n",
       "      <td>4.069</td>\n",
       "      <td>0.267</td>\n",
       "      <td>...</td>\n",
       "      <td>1.722</td>\n",
       "      <td>0</td>\n",
       "      <td>0.0</td>\n",
       "      <td>0.148</td>\n",
       "      <td>27.932</td>\n",
       "      <td>19.518</td>\n",
       "      <td>0</td>\n",
       "      <td>0.849</td>\n",
       "      <td>0.999</td>\n",
       "      <td>0</td>\n",
       "    </tr>\n",
       "    <tr>\n",
       "      <th>3</th>\n",
       "      <td>12</td>\n",
       "      <td>3.283663</td>\n",
       "      <td>0</td>\n",
       "      <td>4.016</td>\n",
       "      <td>0.880</td>\n",
       "      <td>0</td>\n",
       "      <td>8.237</td>\n",
       "      <td>0.836</td>\n",
       "      <td>3.956</td>\n",
       "      <td>0.129</td>\n",
       "      <td>...</td>\n",
       "      <td>0.993</td>\n",
       "      <td>0</td>\n",
       "      <td>0.0</td>\n",
       "      <td>0.124</td>\n",
       "      <td>18.993</td>\n",
       "      <td>25.403</td>\n",
       "      <td>0</td>\n",
       "      <td>0.988</td>\n",
       "      <td>0.998</td>\n",
       "      <td>0</td>\n",
       "    </tr>\n",
       "    <tr>\n",
       "      <th>4</th>\n",
       "      <td>14</td>\n",
       "      <td>3.409121</td>\n",
       "      <td>0</td>\n",
       "      <td>4.657</td>\n",
       "      <td>0.522</td>\n",
       "      <td>0</td>\n",
       "      <td>35.882</td>\n",
       "      <td>0.383</td>\n",
       "      <td>4.234</td>\n",
       "      <td>-0.089</td>\n",
       "      <td>...</td>\n",
       "      <td>2.095</td>\n",
       "      <td>0</td>\n",
       "      <td>0.0</td>\n",
       "      <td>0.088</td>\n",
       "      <td>44.225</td>\n",
       "      <td>15.741</td>\n",
       "      <td>0</td>\n",
       "      <td>1.595</td>\n",
       "      <td>0.997</td>\n",
       "      <td>0</td>\n",
       "    </tr>\n",
       "  </tbody>\n",
       "</table>\n",
       "<p>5 rows × 3807 columns</p>\n",
       "</div>"
      ],
      "text/plain": [
       "   ID     Score  col1   col2   col3  col4    col5   col6   col7   col8  \\\n",
       "0   5  3.475628     0  4.058  0.824     0  10.267  0.728  4.403  0.050   \n",
       "1   8  3.601332     0  4.111  0.929     0   8.352  0.907  4.216  0.034   \n",
       "2   9  1.935003     0  4.139  0.833    66   9.494  0.733  4.069  0.267   \n",
       "3  12  3.283663     0  4.016  0.880     0   8.237  0.836  3.956  0.129   \n",
       "4  14  3.409121     0  4.657  0.522     0  35.882  0.383  4.234 -0.089   \n",
       "\n",
       "    ...     col3796  col3797  col3798  col3799  col3800  col3801  col3802  \\\n",
       "0   ...       1.067        0      0.0    0.115   30.395   24.541        0   \n",
       "1   ...       0.934        0      0.0    0.227   38.508   35.038        0   \n",
       "2   ...       1.722        0      0.0    0.148   27.932   19.518        0   \n",
       "3   ...       0.993        0      0.0    0.124   18.993   25.403        0   \n",
       "4   ...       2.095        0      0.0    0.088   44.225   15.741        0   \n",
       "\n",
       "   col3803  col3804  col3805  \n",
       "0    0.415    0.997        0  \n",
       "1    3.979    0.997        3  \n",
       "2    0.849    0.999        0  \n",
       "3    0.988    0.998        0  \n",
       "4    1.595    0.997        0  \n",
       "\n",
       "[5 rows x 3807 columns]"
      ]
     },
     "execution_count": 13,
     "metadata": {},
     "output_type": "execute_result"
    }
   ],
   "source": [
    "import pandas as pd\n",
    "from IPython.core.display import display\n",
    "from sklearn.datasets import load_boston\n",
    "\n",
    "X = pd.read_csv('./data/train.csv')\n",
    "X.head()"
   ]
  },
  {
   "cell_type": "code",
   "execution_count": 15,
   "metadata": {
    "collapsed": false
   },
   "outputs": [
    {
     "data": {
      "text/plain": [
       "0    3.475628\n",
       "1    3.601332\n",
       "2    1.935003\n",
       "3    3.283663\n",
       "4    3.409121\n",
       "Name: Score, dtype: float64"
      ]
     },
     "execution_count": 15,
     "metadata": {},
     "output_type": "execute_result"
    }
   ],
   "source": [
    "y = X['Score']\n",
    "y.head()"
   ]
  },
  {
   "cell_type": "code",
   "execution_count": 16,
   "metadata": {
    "collapsed": false
   },
   "outputs": [
    {
     "data": {
      "text/html": [
       "<div>\n",
       "<table border=\"1\" class=\"dataframe\">\n",
       "  <thead>\n",
       "    <tr style=\"text-align: right;\">\n",
       "      <th></th>\n",
       "      <th>col1</th>\n",
       "      <th>col2</th>\n",
       "      <th>col3</th>\n",
       "      <th>col4</th>\n",
       "      <th>col5</th>\n",
       "      <th>col6</th>\n",
       "      <th>col7</th>\n",
       "      <th>col8</th>\n",
       "      <th>col9</th>\n",
       "      <th>col10</th>\n",
       "      <th>...</th>\n",
       "      <th>col3796</th>\n",
       "      <th>col3797</th>\n",
       "      <th>col3798</th>\n",
       "      <th>col3799</th>\n",
       "      <th>col3800</th>\n",
       "      <th>col3801</th>\n",
       "      <th>col3802</th>\n",
       "      <th>col3803</th>\n",
       "      <th>col3804</th>\n",
       "      <th>col3805</th>\n",
       "    </tr>\n",
       "  </thead>\n",
       "  <tbody>\n",
       "    <tr>\n",
       "      <th>0</th>\n",
       "      <td>0</td>\n",
       "      <td>4.058</td>\n",
       "      <td>0.824</td>\n",
       "      <td>0</td>\n",
       "      <td>10.267</td>\n",
       "      <td>0.728</td>\n",
       "      <td>4.403</td>\n",
       "      <td>0.050</td>\n",
       "      <td>11</td>\n",
       "      <td>34.568</td>\n",
       "      <td>...</td>\n",
       "      <td>1.067</td>\n",
       "      <td>0</td>\n",
       "      <td>0.0</td>\n",
       "      <td>0.115</td>\n",
       "      <td>30.395</td>\n",
       "      <td>24.541</td>\n",
       "      <td>0</td>\n",
       "      <td>0.415</td>\n",
       "      <td>0.997</td>\n",
       "      <td>0</td>\n",
       "    </tr>\n",
       "    <tr>\n",
       "      <th>1</th>\n",
       "      <td>0</td>\n",
       "      <td>4.111</td>\n",
       "      <td>0.929</td>\n",
       "      <td>0</td>\n",
       "      <td>8.352</td>\n",
       "      <td>0.907</td>\n",
       "      <td>4.216</td>\n",
       "      <td>0.034</td>\n",
       "      <td>9</td>\n",
       "      <td>37.527</td>\n",
       "      <td>...</td>\n",
       "      <td>0.934</td>\n",
       "      <td>0</td>\n",
       "      <td>0.0</td>\n",
       "      <td>0.227</td>\n",
       "      <td>38.508</td>\n",
       "      <td>35.038</td>\n",
       "      <td>0</td>\n",
       "      <td>3.979</td>\n",
       "      <td>0.997</td>\n",
       "      <td>3</td>\n",
       "    </tr>\n",
       "    <tr>\n",
       "      <th>2</th>\n",
       "      <td>0</td>\n",
       "      <td>4.139</td>\n",
       "      <td>0.833</td>\n",
       "      <td>66</td>\n",
       "      <td>9.494</td>\n",
       "      <td>0.733</td>\n",
       "      <td>4.069</td>\n",
       "      <td>0.267</td>\n",
       "      <td>10</td>\n",
       "      <td>33.399</td>\n",
       "      <td>...</td>\n",
       "      <td>1.722</td>\n",
       "      <td>0</td>\n",
       "      <td>0.0</td>\n",
       "      <td>0.148</td>\n",
       "      <td>27.932</td>\n",
       "      <td>19.518</td>\n",
       "      <td>0</td>\n",
       "      <td>0.849</td>\n",
       "      <td>0.999</td>\n",
       "      <td>0</td>\n",
       "    </tr>\n",
       "    <tr>\n",
       "      <th>3</th>\n",
       "      <td>0</td>\n",
       "      <td>4.016</td>\n",
       "      <td>0.880</td>\n",
       "      <td>0</td>\n",
       "      <td>8.237</td>\n",
       "      <td>0.836</td>\n",
       "      <td>3.956</td>\n",
       "      <td>0.129</td>\n",
       "      <td>7</td>\n",
       "      <td>33.482</td>\n",
       "      <td>...</td>\n",
       "      <td>0.993</td>\n",
       "      <td>0</td>\n",
       "      <td>0.0</td>\n",
       "      <td>0.124</td>\n",
       "      <td>18.993</td>\n",
       "      <td>25.403</td>\n",
       "      <td>0</td>\n",
       "      <td>0.988</td>\n",
       "      <td>0.998</td>\n",
       "      <td>0</td>\n",
       "    </tr>\n",
       "    <tr>\n",
       "      <th>4</th>\n",
       "      <td>0</td>\n",
       "      <td>4.657</td>\n",
       "      <td>0.522</td>\n",
       "      <td>0</td>\n",
       "      <td>35.882</td>\n",
       "      <td>0.383</td>\n",
       "      <td>4.234</td>\n",
       "      <td>-0.089</td>\n",
       "      <td>24</td>\n",
       "      <td>53.268</td>\n",
       "      <td>...</td>\n",
       "      <td>2.095</td>\n",
       "      <td>0</td>\n",
       "      <td>0.0</td>\n",
       "      <td>0.088</td>\n",
       "      <td>44.225</td>\n",
       "      <td>15.741</td>\n",
       "      <td>0</td>\n",
       "      <td>1.595</td>\n",
       "      <td>0.997</td>\n",
       "      <td>0</td>\n",
       "    </tr>\n",
       "  </tbody>\n",
       "</table>\n",
       "<p>5 rows × 3805 columns</p>\n",
       "</div>"
      ],
      "text/plain": [
       "   col1   col2   col3  col4    col5   col6   col7   col8  col9   col10  \\\n",
       "0     0  4.058  0.824     0  10.267  0.728  4.403  0.050    11  34.568   \n",
       "1     0  4.111  0.929     0   8.352  0.907  4.216  0.034     9  37.527   \n",
       "2     0  4.139  0.833    66   9.494  0.733  4.069  0.267    10  33.399   \n",
       "3     0  4.016  0.880     0   8.237  0.836  3.956  0.129     7  33.482   \n",
       "4     0  4.657  0.522     0  35.882  0.383  4.234 -0.089    24  53.268   \n",
       "\n",
       "    ...     col3796  col3797  col3798  col3799  col3800  col3801  col3802  \\\n",
       "0   ...       1.067        0      0.0    0.115   30.395   24.541        0   \n",
       "1   ...       0.934        0      0.0    0.227   38.508   35.038        0   \n",
       "2   ...       1.722        0      0.0    0.148   27.932   19.518        0   \n",
       "3   ...       0.993        0      0.0    0.124   18.993   25.403        0   \n",
       "4   ...       2.095        0      0.0    0.088   44.225   15.741        0   \n",
       "\n",
       "   col3803  col3804  col3805  \n",
       "0    0.415    0.997        0  \n",
       "1    3.979    0.997        3  \n",
       "2    0.849    0.999        0  \n",
       "3    0.988    0.998        0  \n",
       "4    1.595    0.997        0  \n",
       "\n",
       "[5 rows x 3805 columns]"
      ]
     },
     "execution_count": 16,
     "metadata": {},
     "output_type": "execute_result"
    }
   ],
   "source": [
    "X  = X.drop(['ID', 'Score'], axis=1)\n",
    "X.head()"
   ]
  },
  {
   "cell_type": "code",
   "execution_count": null,
   "metadata": {
    "collapsed": true
   },
   "outputs": [],
   "source": []
  },
  {
   "cell_type": "markdown",
   "metadata": {},
   "source": [
    "ツリー系のアルゴリズム（ランダムフォレストや勾配ブースティングなど）を除き、通常、機械学習モデルは入力ベクトルのスケールを統一させる必要があります。ここではその処理をPipelineに組み込み対応しています。"
   ]
  },
  {
   "cell_type": "code",
   "execution_count": 17,
   "metadata": {
    "collapsed": false
   },
   "outputs": [
    {
     "name": "stderr",
     "output_type": "stream",
     "text": [
      "C:\\Users\\tanigawa\\Anaconda3\\lib\\site-packages\\sklearn\\ensemble\\weight_boosting.py:29: DeprecationWarning: numpy.core.umath_tests is an internal NumPy module and should not be imported. It will be removed in a future NumPy release.\n",
      "  from numpy.core.umath_tests import inner1d\n"
     ]
    },
    {
     "data": {
      "text/html": [
       "<div>\n",
       "<table border=\"1\" class=\"dataframe\">\n",
       "  <thead>\n",
       "    <tr style=\"text-align: right;\">\n",
       "      <th></th>\n",
       "      <th>test</th>\n",
       "      <th>train</th>\n",
       "    </tr>\n",
       "  </thead>\n",
       "  <tbody>\n",
       "    <tr>\n",
       "      <th>gbr1</th>\n",
       "      <td>4.740051e-01</td>\n",
       "      <td>0.560919</td>\n",
       "    </tr>\n",
       "    <tr>\n",
       "      <th>gbr2</th>\n",
       "      <td>5.299021e-01</td>\n",
       "      <td>0.673056</td>\n",
       "    </tr>\n",
       "    <tr>\n",
       "      <th>ols</th>\n",
       "      <td>-2.639079e+21</td>\n",
       "      <td>0.718904</td>\n",
       "    </tr>\n",
       "    <tr>\n",
       "      <th>rf</th>\n",
       "      <td>4.811667e-01</td>\n",
       "      <td>0.903736</td>\n",
       "    </tr>\n",
       "    <tr>\n",
       "      <th>ridge</th>\n",
       "      <td>3.993156e-01</td>\n",
       "      <td>0.674483</td>\n",
       "    </tr>\n",
       "  </tbody>\n",
       "</table>\n",
       "</div>"
      ],
      "text/plain": [
       "               test     train\n",
       "gbr1   4.740051e-01  0.560919\n",
       "gbr2   5.299021e-01  0.673056\n",
       "ols   -2.639079e+21  0.718904\n",
       "rf     4.811667e-01  0.903736\n",
       "ridge  3.993156e-01  0.674483"
      ]
     },
     "execution_count": 17,
     "metadata": {},
     "output_type": "execute_result"
    }
   ],
   "source": [
    "from sklearn.preprocessing import StandardScaler\n",
    "from sklearn.model_selection import train_test_split\n",
    "from sklearn.linear_model import LinearRegression,Ridge\n",
    "from sklearn.ensemble import RandomForestRegressor,GradientBoostingRegressor\n",
    "from sklearn.pipeline import Pipeline\n",
    "from sklearn.metrics import r2_score\n",
    "\n",
    "# ホールドアウト\n",
    "X_train,X_test,y_train,y_test = train_test_split(X,\n",
    "                                                 y,\n",
    "                                                 test_size=0.20,\n",
    "                                                 random_state=1)\n",
    "\n",
    "# pipeline setting\n",
    "pipelines = {\n",
    "     'ols': Pipeline([('scl',StandardScaler()),\n",
    "                      ('est',LinearRegression())]),\n",
    "     \n",
    "     'ridge':Pipeline([('scl',StandardScaler()),\n",
    "                       ('est',Ridge(random_state=0))]),\n",
    "\n",
    "     'rf': Pipeline([('scl',StandardScaler()),\n",
    "                     ('est',RandomForestRegressor(random_state=0))]),\n",
    "     \n",
    "     'gbr1': Pipeline([('scl',StandardScaler()),\n",
    "                      ('est',GradientBoostingRegressor(random_state=0))]),\n",
    "\n",
    "     'gbr2': Pipeline([('scl',StandardScaler()),\n",
    "                      ('est',GradientBoostingRegressor(n_estimators=250,\n",
    "                                                       random_state=0))])\n",
    "}\n",
    "\n",
    "# build and evaluate\n",
    "scores = {}\n",
    "for pipe_name, pipeline in pipelines.items():\n",
    "    pipeline.fit(X_train, y_train)\n",
    "    scores[(pipe_name,'train')] = r2_score(y_train, pipeline.predict(X_train))\n",
    "    scores[(pipe_name,'test')] = r2_score(y_test, pipeline.predict(X_test))\n",
    "\n",
    "pd.Series(scores).unstack()"
   ]
  },
  {
   "cell_type": "code",
   "execution_count": 21,
   "metadata": {
    "collapsed": true
   },
   "outputs": [],
   "source": [
    "pipe =  Pipeline([('scl',StandardScaler()),\n",
    "                      ('est',GradientBoostingRegressor(n_estimators=1000,\n",
    "                                                       random_state=0))])"
   ]
  },
  {
   "cell_type": "code",
   "execution_count": 22,
   "metadata": {
    "collapsed": false
   },
   "outputs": [
    {
     "data": {
      "text/plain": [
       "Pipeline(steps=[('scl', StandardScaler(copy=True, with_mean=True, with_std=True)), ('est', GradientBoostingRegressor(alpha=0.9, criterion='friedman_mse', init=None,\n",
       "             learning_rate=0.1, loss='ls', max_depth=3, max_features=None,\n",
       "             max_leaf_nodes=None, min_impurity_split=1e-07,\n",
       "         ...          presort='auto', random_state=0, subsample=1.0, verbose=0,\n",
       "             warm_start=False))])"
      ]
     },
     "execution_count": 22,
     "metadata": {},
     "output_type": "execute_result"
    }
   ],
   "source": [
    "pipe.fit(X_train, y_train)"
   ]
  },
  {
   "cell_type": "code",
   "execution_count": 23,
   "metadata": {
    "collapsed": false
   },
   "outputs": [
    {
     "name": "stdout",
     "output_type": "stream",
     "text": [
      "train 0.8680548059101914\n",
      "test  0.5765084035701519\n"
     ]
    }
   ],
   "source": [
    "print('train', r2_score(y_train, pipe.predict(X_train)))\n",
    "print('test ', r2_score(y_test, pipe.predict(X_test)))"
   ]
  },
  {
   "cell_type": "code",
   "execution_count": 24,
   "metadata": {
    "collapsed": false
   },
   "outputs": [
    {
     "name": "stdout",
     "output_type": "stream",
     "text": [
      "X_select shape:(13731,200)\n"
     ]
    },
    {
     "name": "stderr",
     "output_type": "stream",
     "text": [
      "C:\\Users\\tanigawa\\Anaconda3\\lib\\site-packages\\sklearn\\utils\\__init__.py:54: FutureWarning: Conversion of the second argument of issubdtype from `int` to `np.signedinteger` is deprecated. In future, it will be treated as `np.int32 == np.dtype(int).type`.\n",
      "  if np.issubdtype(mask.dtype, np.int):\n"
     ]
    },
    {
     "data": {
      "text/html": [
       "<div>\n",
       "<table border=\"1\" class=\"dataframe\">\n",
       "  <thead>\n",
       "    <tr style=\"text-align: right;\">\n",
       "      <th></th>\n",
       "      <th>col7</th>\n",
       "      <th>col15</th>\n",
       "      <th>col44</th>\n",
       "      <th>col46</th>\n",
       "      <th>col68</th>\n",
       "      <th>col70</th>\n",
       "      <th>col88</th>\n",
       "      <th>col99</th>\n",
       "      <th>col100</th>\n",
       "      <th>col111</th>\n",
       "      <th>...</th>\n",
       "      <th>col3692</th>\n",
       "      <th>col3699</th>\n",
       "      <th>col3701</th>\n",
       "      <th>col3722</th>\n",
       "      <th>col3748</th>\n",
       "      <th>col3753</th>\n",
       "      <th>col3760</th>\n",
       "      <th>col3791</th>\n",
       "      <th>col3794</th>\n",
       "      <th>col3797</th>\n",
       "    </tr>\n",
       "  </thead>\n",
       "  <tbody>\n",
       "    <tr>\n",
       "      <th>0</th>\n",
       "      <td>4.403</td>\n",
       "      <td>0.000</td>\n",
       "      <td>2.001</td>\n",
       "      <td>1.4746</td>\n",
       "      <td>0.000</td>\n",
       "      <td>2.0</td>\n",
       "      <td>21.0</td>\n",
       "      <td>4.530</td>\n",
       "      <td>0.079</td>\n",
       "      <td>0.0</td>\n",
       "      <td>...</td>\n",
       "      <td>0.485</td>\n",
       "      <td>8.938</td>\n",
       "      <td>1.273</td>\n",
       "      <td>0.507</td>\n",
       "      <td>0.838</td>\n",
       "      <td>0.0</td>\n",
       "      <td>1.555</td>\n",
       "      <td>0.0</td>\n",
       "      <td>3.991</td>\n",
       "      <td>0.0</td>\n",
       "    </tr>\n",
       "    <tr>\n",
       "      <th>1</th>\n",
       "      <td>4.216</td>\n",
       "      <td>0.000</td>\n",
       "      <td>1.104</td>\n",
       "      <td>1.6038</td>\n",
       "      <td>78.705</td>\n",
       "      <td>1.0</td>\n",
       "      <td>30.0</td>\n",
       "      <td>5.463</td>\n",
       "      <td>0.388</td>\n",
       "      <td>0.0</td>\n",
       "      <td>...</td>\n",
       "      <td>0.678</td>\n",
       "      <td>4.166</td>\n",
       "      <td>1.227</td>\n",
       "      <td>0.591</td>\n",
       "      <td>0.776</td>\n",
       "      <td>0.0</td>\n",
       "      <td>0.811</td>\n",
       "      <td>0.0</td>\n",
       "      <td>4.038</td>\n",
       "      <td>0.0</td>\n",
       "    </tr>\n",
       "    <tr>\n",
       "      <th>2</th>\n",
       "      <td>4.069</td>\n",
       "      <td>0.000</td>\n",
       "      <td>0.559</td>\n",
       "      <td>2.4008</td>\n",
       "      <td>60.694</td>\n",
       "      <td>0.0</td>\n",
       "      <td>-19.0</td>\n",
       "      <td>3.985</td>\n",
       "      <td>0.305</td>\n",
       "      <td>0.0</td>\n",
       "      <td>...</td>\n",
       "      <td>0.635</td>\n",
       "      <td>0.000</td>\n",
       "      <td>0.782</td>\n",
       "      <td>0.722</td>\n",
       "      <td>0.987</td>\n",
       "      <td>0.0</td>\n",
       "      <td>1.097</td>\n",
       "      <td>0.0</td>\n",
       "      <td>3.779</td>\n",
       "      <td>0.0</td>\n",
       "    </tr>\n",
       "    <tr>\n",
       "      <th>3</th>\n",
       "      <td>3.956</td>\n",
       "      <td>0.000</td>\n",
       "      <td>1.108</td>\n",
       "      <td>1.6930</td>\n",
       "      <td>18.011</td>\n",
       "      <td>0.0</td>\n",
       "      <td>7.0</td>\n",
       "      <td>4.053</td>\n",
       "      <td>0.143</td>\n",
       "      <td>0.0</td>\n",
       "      <td>...</td>\n",
       "      <td>0.619</td>\n",
       "      <td>16.894</td>\n",
       "      <td>1.233</td>\n",
       "      <td>0.350</td>\n",
       "      <td>0.955</td>\n",
       "      <td>0.0</td>\n",
       "      <td>1.847</td>\n",
       "      <td>0.0</td>\n",
       "      <td>3.832</td>\n",
       "      <td>0.0</td>\n",
       "    </tr>\n",
       "    <tr>\n",
       "      <th>4</th>\n",
       "      <td>4.234</td>\n",
       "      <td>3.869</td>\n",
       "      <td>1.069</td>\n",
       "      <td>1.7353</td>\n",
       "      <td>60.694</td>\n",
       "      <td>2.0</td>\n",
       "      <td>-16.0</td>\n",
       "      <td>3.827</td>\n",
       "      <td>0.060</td>\n",
       "      <td>0.0</td>\n",
       "      <td>...</td>\n",
       "      <td>0.549</td>\n",
       "      <td>4.674</td>\n",
       "      <td>0.780</td>\n",
       "      <td>0.881</td>\n",
       "      <td>0.646</td>\n",
       "      <td>0.0</td>\n",
       "      <td>1.176</td>\n",
       "      <td>0.0</td>\n",
       "      <td>3.959</td>\n",
       "      <td>0.0</td>\n",
       "    </tr>\n",
       "  </tbody>\n",
       "</table>\n",
       "<p>5 rows × 200 columns</p>\n",
       "</div>"
      ],
      "text/plain": [
       "    col7  col15  col44   col46   col68  col70  col88  col99  col100  col111  \\\n",
       "0  4.403  0.000  2.001  1.4746   0.000    2.0   21.0  4.530   0.079     0.0   \n",
       "1  4.216  0.000  1.104  1.6038  78.705    1.0   30.0  5.463   0.388     0.0   \n",
       "2  4.069  0.000  0.559  2.4008  60.694    0.0  -19.0  3.985   0.305     0.0   \n",
       "3  3.956  0.000  1.108  1.6930  18.011    0.0    7.0  4.053   0.143     0.0   \n",
       "4  4.234  3.869  1.069  1.7353  60.694    2.0  -16.0  3.827   0.060     0.0   \n",
       "\n",
       "    ...     col3692  col3699  col3701  col3722  col3748  col3753  col3760  \\\n",
       "0   ...       0.485    8.938    1.273    0.507    0.838      0.0    1.555   \n",
       "1   ...       0.678    4.166    1.227    0.591    0.776      0.0    0.811   \n",
       "2   ...       0.635    0.000    0.782    0.722    0.987      0.0    1.097   \n",
       "3   ...       0.619   16.894    1.233    0.350    0.955      0.0    1.847   \n",
       "4   ...       0.549    4.674    0.780    0.881    0.646      0.0    1.176   \n",
       "\n",
       "   col3791  col3794  col3797  \n",
       "0      0.0    3.991      0.0  \n",
       "1      0.0    4.038      0.0  \n",
       "2      0.0    3.779      0.0  \n",
       "3      0.0    3.832      0.0  \n",
       "4      0.0    3.959      0.0  \n",
       "\n",
       "[5 rows x 200 columns]"
      ]
     },
     "execution_count": 24,
     "metadata": {},
     "output_type": "execute_result"
    }
   ],
   "source": [
    "from sklearn.feature_selection import RFE\n",
    "from sklearn.ensemble import RandomForestClassifier\n",
    "\n",
    "selector = RFE(GradientBoostingRegressor(n_estimators=200, random_state=0),\n",
    "               n_features_to_select=200,\n",
    "               step=.05)\n",
    "\n",
    "selector.fit(X,y)\n",
    "\n",
    "X_select = pd.DataFrame(selector.transform(X),\n",
    "                     columns=X.columns[selector.support_])\n",
    "\n",
    "print('X_select shape:(%i,%i)' % X_select.shape)\n",
    "X_select.head()"
   ]
  },
  {
   "cell_type": "code",
   "execution_count": 25,
   "metadata": {
    "collapsed": true
   },
   "outputs": [],
   "source": [
    "# ホールドアウト\n",
    "X_s_train,X_s_test,y_s_train,y_s_test = train_test_split(X_select,\n",
    "                                                 y,\n",
    "                                                 test_size=0.20,\n",
    "                                                 random_state=1)\n"
   ]
  },
  {
   "cell_type": "code",
   "execution_count": 32,
   "metadata": {
    "collapsed": true
   },
   "outputs": [],
   "source": [
    "pipe =  Pipeline([('scl',StandardScaler()),\n",
    "                      ('est',GradientBoostingRegressor(n_estimators=2000,\n",
    "                                                       random_state=0))])"
   ]
  },
  {
   "cell_type": "code",
   "execution_count": 33,
   "metadata": {
    "collapsed": false
   },
   "outputs": [
    {
     "data": {
      "text/plain": [
       "Pipeline(steps=[('scl', StandardScaler(copy=True, with_mean=True, with_std=True)), ('est', GradientBoostingRegressor(alpha=0.9, criterion='friedman_mse', init=None,\n",
       "             learning_rate=0.1, loss='ls', max_depth=3, max_features=None,\n",
       "             max_leaf_nodes=None, min_impurity_split=1e-07,\n",
       "         ...          presort='auto', random_state=0, subsample=1.0, verbose=0,\n",
       "             warm_start=False))])"
      ]
     },
     "execution_count": 33,
     "metadata": {},
     "output_type": "execute_result"
    }
   ],
   "source": [
    "pipe.fit(X_s_train, y_s_train)"
   ]
  },
  {
   "cell_type": "code",
   "execution_count": 34,
   "metadata": {
    "collapsed": false
   },
   "outputs": [
    {
     "name": "stdout",
     "output_type": "stream",
     "text": [
      "train 0.9152663011380762\n",
      "test  0.5783880520373195\n"
     ]
    }
   ],
   "source": [
    "print('train', r2_score(y_s_train, pipe.predict(X_s_train)))\n",
    "print('test ', r2_score(y_s_test, pipe.predict(X_s_test)))"
   ]
  },
  {
   "cell_type": "code",
   "execution_count": null,
   "metadata": {
    "collapsed": true
   },
   "outputs": [],
   "source": []
  },
  {
   "cell_type": "code",
   "execution_count": null,
   "metadata": {
    "collapsed": true
   },
   "outputs": [],
   "source": []
  }
 ],
 "metadata": {
  "kernelspec": {
   "display_name": "Python [Root]",
   "language": "python",
   "name": "Python [Root]"
  },
  "language_info": {
   "codemirror_mode": {
    "name": "ipython",
    "version": 3
   },
   "file_extension": ".py",
   "mimetype": "text/x-python",
   "name": "python",
   "nbconvert_exporter": "python",
   "pygments_lexer": "ipython3",
   "version": "3.5.2"
  }
 },
 "nbformat": 4,
 "nbformat_minor": 2
}
